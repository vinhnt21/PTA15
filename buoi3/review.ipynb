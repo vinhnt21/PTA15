{
 "cells": [
  {
   "cell_type": "markdown",
   "metadata": {},
   "source": [
    "---\n",
    "\n",
    "### **Bài 1: Quản lý học sinh**\n",
    "**Đề bài:**\n",
    "- Xây dựng lớp `Student` có các thuộc tính:\n",
    "  - `name`: Tên học sinh.\n",
    "  - `age`: Tuổi.\n",
    "  - `grade`: Điểm trung bình.\n",
    "- Thêm các phương thức:\n",
    "  - `display_info()`: Hiển thị thông tin học sinh.\n",
    "  - `is_passed()`: Trả về `True` nếu điểm >= 5, ngược lại trả về `False`.\n",
    "- Tạo 2-3 đối tượng học sinh và kiểm tra các phương thức.\n",
    "\n",
    "---\n"
   ]
  },
  {
   "cell_type": "code",
   "execution_count": 1,
   "metadata": {},
   "outputs": [],
   "source": [
    "class Student:\n",
    "    def __init__(self, name, age, grade):\n",
    "        self.name = name\n",
    "        self.age = age\n",
    "        self.grade = grade\n",
    "        \n",
    "    def display(self):\n",
    "        print(\"Name: \", self.name)\n",
    "        print(\"Age: \", self.age)\n",
    "        print(\"Grade: \", self.grade)\n",
    "        \n",
    "    def is_passed(self):\n",
    "        if self.grade >= 5:\n",
    "            return True\n",
    "        else:\n",
    "            return False"
   ]
  },
  {
   "cell_type": "code",
   "execution_count": 3,
   "metadata": {},
   "outputs": [
    {
     "name": "stdout",
     "output_type": "stream",
     "text": [
      "Name:  John\n",
      "Age:  15\n",
      "Grade:  6\n",
      "Is passed:  True\n"
     ]
    }
   ],
   "source": [
    "st1 = Student(\"John\", 15, 6)\n",
    "st1.display()\n",
    "print(\"Is passed: \", st1.is_passed())"
   ]
  },
  {
   "cell_type": "markdown",
   "metadata": {},
   "source": [
    "\n",
    "### **Bài 2: Quản lý tài khoản ngân hàng**\n",
    "**Đề bài:**\n",
    "- Xây dựng lớp `BankAccount` với các thuộc tính:\n",
    "  - `account_number`: Số tài khoản.\n",
    "  - `owner`: Chủ tài khoản.\n",
    "  - `balance`: Số dư (mặc định là 0).\n",
    "- Thêm các phương thức:\n",
    "  - `deposit(amount)`: Nạp tiền vào tài khoản.\n",
    "  - `withdraw(amount)`: Rút tiền (kiểm tra số dư trước khi rút).\n",
    "  - `display_balance()`: Hiển thị số dư.\n",
    "- Tạo một tài khoản và thực hiện các thao tác.\n",
    "\n",
    "---\n",
    "\n",
    "### **Bài 3: Mô phỏng động vật**\n",
    "**Đề bài:**\n",
    "- Tạo lớp `Animal` với các thuộc tính:\n",
    "  - `name`: Tên động vật.\n",
    "  - `sound`: Âm thanh.\n",
    "- Thêm phương thức `make_sound()`: In ra âm thanh của động vật.\n",
    "- Tạo lớp con `Dog` và `Cat` kế thừa từ `Animal`:\n",
    "  - `Dog`: `sound = \"Woof\"`.\n",
    "  - `Cat`: `sound = \"Meow\"`.\n",
    "- Tạo đối tượng từ lớp `Dog` và `Cat` rồi kiểm tra.\n",
    "\n",
    "---\n",
    "\n",
    "### **Bài 4: Quản lý sách**\n",
    "**Đề bài:**\n",
    "- Xây dựng lớp `Book` với các thuộc tính:\n",
    "  - `title`: Tên sách.\n",
    "  - `author`: Tác giả.\n",
    "  - `price`: Giá tiền.\n",
    "- Thêm phương thức:\n",
    "  - `discount(percent)`: Giảm giá theo phần trăm.\n",
    "  - `display_info()`: Hiển thị thông tin sách.\n",
    "- Tạo danh sách sách và thực hiện giảm giá cho từng sách.\n",
    "\n",
    "---\n",
    "\n",
    "### **Bài 5: Quản lý hình học**\n",
    "**Đề bài:**\n",
    "- Tạo lớp `Rectangle` với các thuộc tính:\n",
    "  - `width`: Chiều rộng.\n",
    "  - `height`: Chiều cao.\n",
    "- Thêm phương thức:\n",
    "  - `area()`: Tính diện tích.\n",
    "  - `perimeter()`: Tính chu vi.\n",
    "- Tạo lớp `Square` kế thừa từ `Rectangle`:\n",
    "  - Ghi đè phương thức khởi tạo (`__init__`) để chỉ cần nhập một cạnh.\n",
    "- Tạo đối tượng và kiểm tra các phương thức.\n",
    "\n"
   ]
  }
 ],
 "metadata": {
  "kernelspec": {
   "display_name": "Python 3",
   "language": "python",
   "name": "python3"
  },
  "language_info": {
   "codemirror_mode": {
    "name": "ipython",
    "version": 3
   },
   "file_extension": ".py",
   "mimetype": "text/x-python",
   "name": "python",
   "nbconvert_exporter": "python",
   "pygments_lexer": "ipython3",
   "version": "3.12.4"
  }
 },
 "nbformat": 4,
 "nbformat_minor": 2
}
