{
 "cells": [
  {
   "cell_type": "markdown",
   "metadata": {},
   "source": [
    "# Lập trình Hướng đối tượng (Object Oriented Programming - OOP)\n",
    "\n",
    "## `Class`\n",
    "- Là một khuôn mẫu để tạo ra một đối tượng, mô tả: **thuộc tính (attribute)** và **hành vi (behavior)** của đối tượng.\n",
    "- **Thuộc tính (attribute)**: là các đặc điểm mô tả đối tượng.\n",
    "- **Hành vi (behavior)**: là các hoạt động mà đối tượng có thể thực hiện.\n",
    "\n",
    "## `Object`\n",
    "- Là một ví dụ cụ thể của 1 `Class`"
   ]
  },
  {
   "cell_type": "code",
   "execution_count": 1,
   "metadata": {},
   "outputs": [],
   "source": [
    "class User:\n",
    "    def __init__(self, name, dob, email, password):\n",
    "        self.name = name\n",
    "        self.dob = dob\n",
    "        self.email = email\n",
    "        self.password = password\n",
    "        \n",
    "    def show_info(self):\n",
    "        print(f'User: {self.name}, Date of Birth: {self.dob}, Email: {self.email}, Password: {self.password}')"
   ]
  },
  {
   "cell_type": "code",
   "execution_count": 3,
   "metadata": {},
   "outputs": [
    {
     "name": "stdout",
     "output_type": "stream",
     "text": [
      "User: Khanh, Date of Birth: 01/01/1990, Email: a@a.com, Password: 123456\n",
      "User: Duoung, Date of Birth: 01/01/1990, Email: b@b.com, Password: 123456\n"
     ]
    }
   ],
   "source": [
    "user1 = User('Khanh', '01/01/1990', 'a@a.com', '123456')\n",
    "user1.show_info()\n",
    "\n",
    "user2 = User('Duoung', '01/01/1990', 'b@b.com', '123456')\n",
    "user2.show_info()"
   ]
  },
  {
   "cell_type": "markdown",
   "metadata": {},
   "source": [
    "# Bài tập\n",
    "- class Book để với thuộc tính:\n",
    "    - `name`: tên sách\n",
    "    - `author`: tác giả\n",
    "    - `price`: giá tiền\n",
    "    - `qty`: số lượng\n",
    "\n",
    "- class BookManager để quản lý sách\n",
    "    - thuộc tính:\n",
    "        - `books`: list chứa sách\n",
    "    - hành vi:\n",
    "        - hướng dẫn sau"
   ]
  },
  {
   "cell_type": "markdown",
   "metadata": {},
   "source": [
    "## Kế Thừa"
   ]
  },
  {
   "cell_type": "code",
   "execution_count": 4,
   "metadata": {},
   "outputs": [],
   "source": [
    "class Admin:\n",
    "    def __init__(self, name, dob, email, password):\n",
    "        self.name = name\n",
    "        self.dob = dob\n",
    "        self.email = email\n",
    "        self.password = password\n",
    "        self.privileges = ['can add post', 'can delete post', 'can ban user']\n",
    "        \n",
    "    def show_info(self):\n",
    "        print(f'Admin: {self.name}, Date of Birth: {self.dob}, Email: {self.email}, Password: {self.password}')\n",
    "        \n",
    "    def show_privileges(self):\n",
    "        for privilege in self.privileges:\n",
    "            print(privilege)"
   ]
  },
  {
   "cell_type": "code",
   "execution_count": 8,
   "metadata": {},
   "outputs": [
    {
     "name": "stdout",
     "output_type": "stream",
     "text": [
      "User: Khanh, Date of Birth: 01/01/1990, Email: a@a.com, Password: 123456\n"
     ]
    }
   ],
   "source": [
    "class Admin(User):\n",
    "    def __init__(self, name, dob, email, password):\n",
    "        super().__init__(name, dob, email, password)\n",
    "        self.privileges = ['can add post', 'can delete post', 'can ban user']\n",
    "        \n",
    "    def show_privileges(self):\n",
    "        for privilege in self.privileges:\n",
    "            print(privilege)\n",
    "            \n",
    "admin1 = Admin('Khanh', '01/01/1990', 'a@a.com', '123456')\n",
    "admin1.show_info()"
   ]
  },
  {
   "cell_type": "code",
   "execution_count": null,
   "metadata": {},
   "outputs": [],
   "source": []
  }
 ],
 "metadata": {
  "kernelspec": {
   "display_name": "Python 3",
   "language": "python",
   "name": "python3"
  },
  "language_info": {
   "codemirror_mode": {
    "name": "ipython",
    "version": 3
   },
   "file_extension": ".py",
   "mimetype": "text/x-python",
   "name": "python",
   "nbconvert_exporter": "python",
   "pygments_lexer": "ipython3",
   "version": "3.12.4"
  }
 },
 "nbformat": 4,
 "nbformat_minor": 2
}
